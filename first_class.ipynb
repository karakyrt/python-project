{
 "cells": [
  {
   "cell_type": "code",
   "execution_count": 16,
   "metadata": {
    "scrolled": false
   },
   "outputs": [
    {
     "name": "stdout",
     "output_type": "stream",
     "text": [
      "this is my string\n",
      "THIS IS MY STRING\n"
     ]
    }
   ],
   "source": [
    "my_string = 'This is my string'\n",
    "my_second_string = 'andrey'\n",
    "\n",
    "\n",
    "#city = 'london'\n",
    "#fix = city.capitalize()\n",
    "# print(fix)\n",
    "\n",
    "\n",
    "print(my_string.lower())\n",
    "print(my_string.upper())\n",
    "\n",
    "\n",
    "#dir(my_second_string)\n",
    "#print(my_second_string.capitalize())\n"
   ]
  },
  {
   "cell_type": "code",
   "execution_count": null,
   "metadata": {},
   "outputs": [],
   "source": []
  }
 ],
 "metadata": {
  "kernelspec": {
   "display_name": "Python 3",
   "language": "python",
   "name": "python3"
  },
  "language_info": {
   "codemirror_mode": {
    "name": "ipython",
    "version": 3
   },
   "file_extension": ".py",
   "mimetype": "text/x-python",
   "name": "python",
   "nbconvert_exporter": "python",
   "pygments_lexer": "ipython3",
   "version": "3.6.5"
  }
 },
 "nbformat": 4,
 "nbformat_minor": 2
}
